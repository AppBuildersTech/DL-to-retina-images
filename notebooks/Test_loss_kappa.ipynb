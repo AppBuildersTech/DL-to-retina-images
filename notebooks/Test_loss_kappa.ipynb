{
 "cells": [
  {
   "cell_type": "code",
   "execution_count": null,
   "metadata": {
    "collapsed": false
   },
   "outputs": [],
   "source": [
    "#RANDOM NUMBERS GENRATOR\n",
    "np.random.seed(1337) \n",
    "\n",
    "import numpy as np\n",
    "import math\n",
    "\n",
    "# ~50% correlated ratings\n",
    "N = int(1e6)\n",
    "A = np.random.choice(5,size=(N))\n",
    "B = A*1\n",
    "ind = np.random.rand(N) >= 0.5\n",
    "B[ind] = np.random.choice(5,size=(np.sum(ind)))\n",
    "\n"
   ]
  },
  {
   "cell_type": "code",
   "execution_count": 1,
   "metadata": {
    "collapsed": false
   },
   "outputs": [
    {
     "name": "stderr",
     "output_type": "stream",
     "text": [
      "Using Theano backend.\n"
     ]
    },
    {
     "name": "stdout",
     "output_type": "stream",
     "text": [
      "('x: ', array([1, 2, 4, 2, 4, 0]))\n",
      "('x: ', array([[ 0.,  1.,  0.,  0.,  0.],\n",
      "       [ 0.,  0.,  1.,  0.,  0.],\n",
      "       [ 0.,  0.,  0.,  0.,  1.],\n",
      "       [ 0.,  0.,  1.,  0.,  0.],\n",
      "       [ 0.,  0.,  0.,  0.,  1.],\n",
      "       [ 1.,  0.,  0.,  0.,  0.]]))\n",
      "('ratings_mat: ', array([[0, 0, 0, 0, 0],\n",
      "       [1, 1, 1, 1, 1],\n",
      "       [2, 2, 2, 2, 2],\n",
      "       [3, 3, 3, 3, 3],\n",
      "       [4, 4, 4, 4, 4]]))\n",
      "('ratings_mat.T: ', array([[0, 1, 2, 3, 4],\n",
      "       [0, 1, 2, 3, 4],\n",
      "       [0, 1, 2, 3, 4],\n",
      "       [0, 1, 2, 3, 4],\n",
      "       [0, 1, 2, 3, 4]]))\n",
      "[[ 0.      0.0625  0.25    0.5625  1.    ]\n",
      " [ 0.0625  0.      0.0625  0.25    0.5625]\n",
      " [ 0.25    0.0625  0.      0.0625  0.25  ]\n",
      " [ 0.5625  0.25    0.0625  0.      0.0625]\n",
      " [ 1.      0.5625  0.25    0.0625  0.    ]]\n",
      "('conf_mat: ', array([[ 1.,  0.,  0.,  0.,  0.],\n",
      "       [ 0.,  1.,  0.,  0.,  0.],\n",
      "       [ 0.,  0.,  1.,  1.,  0.],\n",
      "       [ 0.,  0.,  0.,  0.,  0.],\n",
      "       [ 0.,  0.,  0.,  0.,  2.]]))\n"
     ]
    },
    {
     "name": "stderr",
     "output_type": "stream",
     "text": [
      "Using gpu device 0: GeForce GTX 980 Ti (CNMeM is disabled, cuDNN 4007)\n"
     ]
    },
    {
     "data": {
      "text/plain": [
       "0.96202531645569622"
      ]
     },
     "execution_count": 1,
     "metadata": {},
     "output_type": "execute_result"
    }
   ],
   "source": [
    "import numpy as np\n",
    "\n",
    "def quadratic_kappa(y, t, eps=1e-15):\n",
    "    # Assuming y and t are one-hot encoded!\n",
    "    num_scored_items = y.shape[0]\n",
    "    num_ratings = y.shape[1] \n",
    "    ratings_mat = np.tile(np.arange(0, num_ratings)[:, None], \n",
    "                        reps=(1, num_ratings))\n",
    "    print(\"ratings_mat: \", ratings_mat)\n",
    "    print(\"ratings_mat.T: \", ratings_mat.T)\n",
    "\n",
    "    ratings_squared = (ratings_mat - ratings_mat.T) ** 2\n",
    "#     print(ratings_squared)    \n",
    "    weights = ratings_squared / (float(num_ratings) - 1) ** 2\n",
    "    print(weights)\n",
    "\n",
    "    # We norm for consistency with other variations.\n",
    "    y_norm = y / (eps + y.sum(axis=1)[:, None])\n",
    "#     print(y)\n",
    "\n",
    "#     print(y_norm)\n",
    "\n",
    "    # The histograms of the raters.\n",
    "    hist_rater_a = y_norm.sum(axis=0)\n",
    "    hist_rater_b = t.sum(axis=0)\n",
    "    \n",
    "#     print(hist_rater_a)\n",
    "#     print(hist_rater_b)\n",
    "\n",
    "    # The confusion matrix.\n",
    "    conf_mat = np.dot(y_norm.T, t)\n",
    "    \n",
    "      \n",
    "    print(\"conf_mat: \",conf_mat)\n",
    "\n",
    "\n",
    "    # The nominator.\n",
    "    nom = np.sum(weights * conf_mat)\n",
    "    expected_probs = np.dot(hist_rater_a[:, None], \n",
    "                          hist_rater_b[None, :])\n",
    "    \n",
    "#     print(nom)\n",
    "#     print(expected_probs)\n",
    "\n",
    "    # The denominator.\n",
    "    denom = np.sum(weights * expected_probs / num_scored_items)\n",
    "#     print(denom)\n",
    "\n",
    "    return 1 - nom / denom\n",
    "    \n",
    "\n",
    "    \n",
    "nb_classes = 5\n",
    "from keras.utils import np_utils\n",
    "\n",
    "x = np.array([(1,2) , (4,2), (4,0)])\n",
    "f = np.array([(1,2) , (4,3), (4,0)])\n",
    "\n",
    "x = x.flatten()\n",
    "f = f.flatten()\n",
    "\n",
    "# x = A \n",
    "# f = B \n",
    "\n",
    "print(\"x: \", x)\n",
    "\n",
    "x = np_utils.to_categorical(x, nb_classes)\n",
    "f = np_utils.to_categorical(f, nb_classes)\n",
    "\n",
    "print(\"x: \", x)\n",
    "\n",
    "\n",
    "quadratic_kappa(x,f)"
   ]
  },
  {
   "cell_type": "code",
   "execution_count": null,
   "metadata": {
    "collapsed": true
   },
   "outputs": [],
   "source": [
    "def quad_kappa_loss(y, t, y_pow=1, eps=1e-15):\n",
    "    num_scored_items = y.shape[0]\n",
    "    num_ratings = 5\n",
    "    tmp = T.tile(T.arange(0, num_ratings).reshape((num_ratings, 1)),\n",
    "                 reps=(1, num_ratings)).astype(theano.config.floatX)\n",
    "    weights = (tmp - tmp.T) ** 2 / (num_ratings - 1) ** 2\n",
    "\n",
    "    y_ = y ** y_pow\n",
    "    y_norm = y_ / (eps + y_.sum(axis=1).reshape((num_scored_items, 1)))\n",
    "\n",
    "    hist_rater_a = y_norm.sum(axis=0)\n",
    "    hist_rater_b = t.sum(axis=0)\n",
    "\n",
    "    conf_mat = T.dot(y_norm.T, t)\n",
    "\n",
    "    nom = T.sum(weights * conf_mat)\n",
    "    denom = T.sum(weights * T.dot(hist_rater_a.reshape((num_ratings, 1)),\n",
    "                                  hist_rater_b.reshape((1, num_ratings))) /\n",
    "                  num_scored_items.astype(theano.config.floatX))\n",
    "\n",
    "    return - (1 - nom / denom)"
   ]
  },
  {
   "cell_type": "code",
   "execution_count": 3,
   "metadata": {
    "collapsed": false
   },
   "outputs": [
    {
     "name": "stdout",
     "output_type": "stream",
     "text": [
      "[[1 2]\n",
      " [4 2]\n",
      " [4 0]]\n",
      "[[1 0 0 0 0]\n",
      " [0 1 0 0 0]\n",
      " [0 0 1 1 0]\n",
      " [0 0 0 0 0]\n",
      " [0 0 0 0 2]]\n",
      "[[ 0.      0.0625  0.25    0.5625  1.    ]\n",
      " [ 0.0625  0.      0.0625  0.25    0.5625]\n",
      " [ 0.25    0.0625  0.      0.0625  0.25  ]\n",
      " [ 0.5625  0.25    0.0625  0.      0.0625]\n",
      " [ 1.      0.5625  0.25    0.0625  0.    ]]\n",
      "[[ 0.16666667  0.16666667  0.33333334  0.          0.33333334]\n",
      " [ 0.16666667  0.16666667  0.33333334  0.          0.33333334]\n",
      " [ 0.16666667  0.16666667  0.33333334  0.          0.33333334]\n",
      " [ 0.16666667  0.16666667  0.33333334  0.          0.33333334]\n",
      " [ 0.33333334  0.33333334  0.66666669  0.          0.66666669]]\n"
     ]
    },
    {
     "data": {
      "text/plain": [
       "0.96202531737254382"
      ]
     },
     "execution_count": 3,
     "metadata": {},
     "output_type": "execute_result"
    }
   ],
   "source": [
    "#METHOD WITH NP ARRAYS, FINDING THE LOSS (Doesn't work in the network because it works with tensonrs instead of npArrays)\n",
    "from keras import backend as K\n",
    "import numpy as np35100\n",
    "import math\n",
    "\n",
    "def kappa(y_true, y_pred): #Receive two np.array()\n",
    "    \n",
    "    #Flatten to became the inputs in singles lines of data\n",
    "    y_true = y_true.flatten()\n",
    "    y_pred = y_pred.flatten()\n",
    "    \n",
    "    #Var init\n",
    "    posRatings = 5\n",
    "    O  = np.zeros((posRatings,posRatings) ,dtype=\"int\")\n",
    "    W = E = np.zeros((posRatings,posRatings) ,dtype=\"float32\")\n",
    "    A = np.zeros((posRatings,1) ,dtype=\"float32\")\n",
    "    B = np.zeros((posRatings,1) ,dtype=\"float32\")\n",
    "    \n",
    "    #Kappa calculation\n",
    "    for i in xrange(posRatings):\n",
    "        #print(y_true[:]==i)\n",
    "        A[i] = np.sum((y_true[:]==i))\n",
    "        #print(A)\n",
    "        B[i] = np.sum((y_pred[:]==i))\n",
    "        \n",
    "        for j in xrange(posRatings):\n",
    "            O[i,j] = np.sum((y_true[:]==i) & (y_pred[:]==j))\n",
    "            W[i,j] = math.pow((i-j), 2)/math.pow((posRatings-1), 2)\n",
    "\n",
    "    print(O)\n",
    "    print(W)\n",
    "    E = np.outer(B,A)\n",
    "    #Normalization\n",
    "    E = (E*np.sum(O))/np.sum(E)\n",
    "    print(E)\n",
    "    k = 1 -(np.sum(W*O))/(np.sum(W*E))\n",
    "\n",
    "    return k\n",
    "\n",
    "def kappa_loss(y_true, y_pred):\n",
    "    return (1 - kappa(y_true, y_pred))\n",
    "\n",
    " #input Example array\n",
    "# y_true = np.array([1,1,4,4,1,0,2])\n",
    "# y_pred = np.array([1,2,4,3,1,1,2])\n",
    "\n",
    "# print(y_true)\n",
    "# print(y_pred)\n",
    "\n",
    "\n",
    "    \n",
    "x = np.array([(1,2) , (4,2), (4,0)])\n",
    "f = np.array([(1,2) , (4,3), (4,0)])\n",
    "\n",
    "# x = A\n",
    "# f = B\n",
    "\n",
    "print(x)\n",
    "kappa(x,f)"
   ]
  }
 ],
 "metadata": {
  "anaconda-cloud": {},
  "kernelspec": {
   "display_name": "Python [Root]",
   "language": "python",
   "name": "Python [Root]"
  },
  "language_info": {
   "codemirror_mode": {
    "name": "ipython",
    "version": 2
   },
   "file_extension": ".py",
   "mimetype": "text/x-python",
   "name": "python",
   "nbconvert_exporter": "python",
   "pygments_lexer": "ipython2",
   "version": "2.7.12"
  }
 },
 "nbformat": 4,
 "nbformat_minor": 1
}
