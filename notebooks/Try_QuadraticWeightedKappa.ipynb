{
 "cells": [
  {
   "cell_type": "code",
   "execution_count": 1,
   "metadata": {
    "collapsed": false
   },
   "outputs": [
    {
     "name": "stdout",
     "output_type": "stream",
     "text": [
      "[4 0 1 ..., 1 0 1]\n",
      "[4 0 3 ..., 2 3 1]\n",
      "O: \n",
      "[[119593  20142  20049  20434  19970]\n",
      " [ 19809 120233  19990  20281  20086]\n",
      " [ 19964  19997 119806  19933  20116]\n",
      " [ 20173  19950  19997 119856  19910]\n",
      " [ 19795  19892  19953  19963 120108]]\n",
      "W: \n",
      "[[ 0.      0.0625  0.25    0.5625  1.    ]\n",
      " [ 0.0625  0.      0.0625  0.25    0.5625]\n",
      " [ 0.25    0.0625  0.      0.0625  0.25  ]\n",
      " [ 0.5625  0.25    0.0625  0.      0.0625]\n",
      " [ 1.      0.5625  0.25    0.0625  0.    ]]\n",
      "E: \n",
      "[[ 39904.27402828  39946.3317537   39830.12004884  39844.07511998\n",
      "   39809.18949012]\n",
      " [ 40080.43888146  40122.68092686  40005.95722203  40019.97373317\n",
      "   39984.93655133]\n",
      " [ 39996.56099861  40038.71702802  39922.23498718  39936.22282632\n",
      "   39901.25527647]\n",
      " [ 40131.08591835  40173.38530775  40056.51005093  40070.54294607\n",
      "   40035.46070822]\n",
      " [ 40075.63427375  40117.87222316  40001.16080633  40015.17731747\n",
      "   39980.14423162]]\n",
      "k: \n",
      "0.499208179069\n"
     ]
    }
   ],
   "source": [
    "'''\n",
    "Kappa coefficient is a statistic which measures inter-rater agreement for qualitative (categorical) items.\n",
    "Images have five possible ratings, 0,1,2,3,4.  \n",
    "Each image is characterized by a tuple (ea,eb), which corresponds to its scores by Rater A (human) and Rater B (predicted).\n",
    "'''\n",
    "#EXAMPLE TO TEST THE KAPPA GIVEN TWO npARRAYS\n",
    "\n",
    "# O = Observed Matriz O(i,j) -> Amount of images that received a rating i by A and a rating j by B\n",
    "\n",
    "import numpy as np\n",
    "import math\n",
    "np.random.seed(1337) \n",
    "\n",
    "# ~50% correlated ratings\n",
    "N = int(1e6)\n",
    "A = np.random.choice(5,size=(N))\n",
    "B = A*1\n",
    "ind = np.random.rand(N) >= 0.5\n",
    "B[ind] = np.random.choice(5,size=(np.sum(ind)))\n",
    "\n",
    " #input Example array\n",
    "# y_true = np.array([1,1,4,4,1,0,2])\n",
    "# y_pred = np.array([1,2,4,3,1,1,2])\n",
    "\n",
    "y_true = A\n",
    "y_pred = B\n",
    "print(y_true)\n",
    "print(y_pred)\n",
    "\n",
    "\n",
    "\n",
    "posRatings = 5\n",
    "O  = np.zeros((posRatings,posRatings) ,dtype=\"int\")\n",
    "W = E = np.zeros((posRatings,posRatings) ,dtype=\"float32\")\n",
    "A = np.zeros((posRatings,1) ,dtype=\"float32\")\n",
    "B = np.zeros((posRatings,1) ,dtype=\"float32\")\n",
    "\n",
    "for i in xrange(posRatings):\n",
    "    A[i] = np.sum((y_true[:]==i))\n",
    "    B[i] = np.sum((y_pred[:]==i))\n",
    "    for j in xrange(posRatings):\n",
    "        O[i,j] = np.sum((y_true[:]==i) & (y_pred[:]==j))\n",
    "        W[i,j] = math.pow((i-j), 2)/math.pow((posRatings-1), 2)\n",
    "\n",
    "E = np.outer(B,A)\n",
    "#Normalization\n",
    "E = (E*np.sum(O))/np.sum(E)\n",
    "\n",
    "k = 1 -(np.sum(W*O))/(np.sum(W*E))\n",
    "\n",
    "print \"O:\",\"\\n\" ,O\n",
    "print \"W:\",\"\\n\" ,W\n",
    "print \"E:\",\"\\n\" , E\n",
    "print \"k:\",\"\\n\",k\n"
   ]
  },
  {
   "cell_type": "code",
   "execution_count": 2,
   "metadata": {
    "collapsed": false
   },
   "outputs": [
    {
     "name": "stdout",
     "output_type": "stream",
     "text": [
      "[[1 2]\n",
      " [5 2]\n",
      " [4 9]]\n"
     ]
    },
    {
     "data": {
      "text/plain": [
       "0.099999999999999978"
      ]
     },
     "execution_count": 2,
     "metadata": {},
     "output_type": "execute_result"
    }
   ],
   "source": [
    "#METHOD WITH NP ARRAYS, FINDING THE LOSS (Doesn't work in the network because it works with tensonrs instead of npArrays)\n",
    "# from keras import backend as K\n",
    "import numpy as np\n",
    "import math\n",
    "\n",
    "def kappa(y_true, y_pred): #Receive two np.array()\n",
    "    \n",
    "    #Flatten to became the inputs in singles lines of data\n",
    "    y_true = y_true.flatten()\n",
    "    y_pred = y_pred.flatten()\n",
    "    \n",
    "    #Var init\n",
    "    posRatings = 5\n",
    "    O  = np.zeros((posRatings,posRatings) ,dtype=\"int\")\n",
    "    W = E = np.zeros((posRatings,posRatings) ,dtype=\"float32\")\n",
    "    A = np.zeros((posRatings,1) ,dtype=\"float32\")\n",
    "    B = np.zeros((posRatings,1) ,dtype=\"float32\")\n",
    "    \n",
    "    #Kappa calculation\n",
    "    for i in xrange(posRatings):\n",
    "        #print(y_true[:]==i)\n",
    "        A[i] = np.sum((y_true[:]==i))\n",
    "        #print(A)\n",
    "        B[i] = np.sum((y_pred[:]==i))\n",
    "        \n",
    "        for j in xrange(posRatings):\n",
    "            O[i,j] = np.sum((y_true[:]==i) & (y_pred[:]==j))\n",
    "            W[i,j] = math.pow((i-j), 2)/math.pow((posRatings-1), 2)\n",
    "\n",
    "    E = np.outer(B,A)\n",
    "    #Normalization\n",
    "    E = (E*np.sum(O))/np.sum(E)\n",
    "\n",
    "    k = 1 -(np.sum(W*O))/(np.sum(W*E))\n",
    "\n",
    "    return k\n",
    "\n",
    "def kappa_loss(y_true, y_pred):\n",
    "    return (1 - kappa(y_true, y_pred))\n",
    "\n",
    "    \n",
    "x = np.array([(1,2) , (5,2), (4,9)])\n",
    "f = np.array([(1,2) , (5,3), (4,9)])\n",
    "print(x)\n",
    "kappa_loss(x,f)"
   ]
  },
  {
   "cell_type": "code",
   "execution_count": 3,
   "metadata": {
    "collapsed": true
   },
   "outputs": [],
   "source": [
    "#KAPPA WITH TENSORS (Doesnt work inside teh netwok, just for test with new tensors because \n",
    "#it requires create a graph when the method eval() is used but in the network is not possible create new graph inside the network graph)\n",
    "def kappa(y_true, y_pred): #Receive two np.array()\n",
    "\n",
    "    #Flatten to became the inputs in singles lines of data\n",
    "    y_true = K.flatten(y_true)\n",
    "    y_pred = K.flatten(y_pred)\n",
    "\n",
    "    print(y_true.type) \n",
    "    #Var init\n",
    "    posRatings = 5\n",
    "    O  = np.zeros((posRatings,posRatings) ,dtype=\"int\")\n",
    "    W = E = np.zeros((posRatings,posRatings) ,dtype=\"float32\")\n",
    "    A = np.zeros((posRatings,1) ,dtype=\"float32\")\n",
    "    B = np.zeros((posRatings,1) ,dtype=\"float32\")\n",
    "    #Kappa calculation\n",
    "    for i in xrange(posRatings):\n",
    "        A[i] = K.sum((y_true.eval())[:]==i).eval()\n",
    "        B[i] = K.sum((y_pred.eval())[:]==i).eval()\n",
    "        for j in xrange(posRatings):\n",
    "            O[i,j] = np.sum(((y_true.eval())[:]==i ) & ((y_pred.eval())[:]==j))\n",
    "            W[i,j] = math.pow((i-j), 2)/math.pow((posRatings-1), 2)\n",
    "\n",
    "    E = np.outer(B,A)\n",
    "    #Normalization\n",
    "    E = (E*np.sum(O))/np.sum(E)\n",
    "\n",
    "    k = 1 -(np.sum(W*O))/(np.sum(W*E))\n",
    "\n",
    "    k = K.variable(value=k)\n",
    "    return k\n",
    "\n",
    "def kappa_loss(y_true, y_pred):\n",
    "    print(\"y_true\", y_true.type)\n",
    "    print(\"y_pred\", y_pred)\n",
    "    \n",
    "    \n",
    "    return (1.-kappa(y_true, y_pred))"
   ]
  },
  {
   "cell_type": "code",
   "execution_count": 4,
   "metadata": {
    "collapsed": false
   },
   "outputs": [
    {
     "name": "stderr",
     "output_type": "stream",
     "text": [
      "Using gpu device 0: GeForce GTX 980 Ti (CNMeM is disabled, cuDNN 4007)\n"
     ]
    }
   ],
   "source": [
    "#EXAMPLE OF A LOSS FUNCTION WORKING WITH TENSORS\n",
    "import theano\n",
    "import theano.tensor as T\n",
    "\n",
    "epsilon = 1.0e-9\n",
    "def custom_objective(y_true, y_pred):\n",
    "    '''Just another crossentropy'''\n",
    "    y_pred = T.clip(y_pred, epsilon, 1.0 - epsilon)\n",
    "    y_pred /= y_pred.sum(axis=-1, keepdims=True)\n",
    "    cce = T.nnet.categorical_crossentropy(y_pred, y_true)\n",
    "    print(\"cce\", cce.type)\n",
    "    return T.sum(y_pred)\n"
   ]
  },
  {
   "cell_type": "code",
   "execution_count": 5,
   "metadata": {
    "collapsed": false
   },
   "outputs": [
    {
     "name": "stderr",
     "output_type": "stream",
     "text": [
      "Using Theano backend.\n"
     ]
    },
    {
     "name": "stdout",
     "output_type": "stream",
     "text": [
      "<CudaNdarrayType(float32, matrix)>\n",
      "TensorType(float32, vector)\n",
      "nan\n",
      "nan\n"
     ]
    }
   ],
   "source": [
    "#TRY OF KAPPA WITH TENSORS, without eval... it doenst work because it requires create a graph/sesion \n",
    "#to test and visualizate the calculation... require too much knowlegbe about backend (graph, tensors, sesions)  \n",
    "#that its not realle relevant in this moment\n",
    "from keras import backend as K\n",
    "import numpy as np\n",
    "import math\n",
    "\n",
    "\n",
    "y_true = np.array([(1,2) , (5,2), (4,9)])\n",
    "y_pred = np.array([(1,2) , (5,3), (4,9)])\n",
    "\n",
    "y_true = K.variable(value=y_true)\n",
    "y_pred = K.variable(value=y_pred)\n",
    "print(y_true)\n",
    "\n",
    "\n",
    "#Flatten to became the inputs in singles lines of data\n",
    "y_true = K.flatten(y_true)\n",
    "y_pred = K.flatten(y_pred)\n",
    "\n",
    "print(y_true.type) \n",
    "#Var init\n",
    "posRatings = 5\n",
    "O  = np.zeros((posRatings,posRatings) ,dtype=\"int\")\n",
    "W = E = np.zeros((posRatings,posRatings) ,dtype=\"float32\")\n",
    "A = np.zeros((posRatings,1) ,dtype=\"float32\")\n",
    "B = np.zeros((posRatings,1) ,dtype=\"float32\")\n",
    "#Kappa calculation\n",
    "for i in xrange(posRatings):\n",
    "    A[i] = K.sum((y_true==i)*1).eval()\n",
    "    B[i] = K.sum((y_pred==i)*1).eval()\n",
    "    for j in xrange(posRatings):\n",
    "        O[i,j] = np.sum((y_true==i ) & ((y_pred==j)))\n",
    "        W[i,j] = math.pow((i-j), 2)/math.pow((posRatings-1), 2)\n",
    "\n",
    "E = np.outer(B,A)\n",
    "#Normalization\n",
    "E = (E*np.sum(O))/np.sum(E)\n",
    "\n",
    "k = 1 -(np.sum(W*O))/(np.sum(W*E))\n",
    "print(k)\n",
    "k = K.variable(value=k)\n",
    "print(K.get_value(k))"
   ]
  },
  {
   "cell_type": "code",
   "execution_count": 6,
   "metadata": {
    "collapsed": false
   },
   "outputs": [
    {
     "name": "stdout",
     "output_type": "stream",
     "text": [
      "('value:', array([[[ 0.18105799,  0.61045426,  0.78873605,  0.80182117,  0.76779622],\n",
      "        [ 0.45899862,  0.39655864,  0.52267075,  0.89335215,  0.31162602],\n",
      "        [ 0.71643686,  0.13007   ,  0.24909572,  0.42383876,  0.60103661],\n",
      "        [ 0.72988379,  0.93980372,  0.83842373,  0.13508058,  0.21601191]],\n",
      "\n",
      "       [[ 0.52879375,  0.82019538,  0.04725382,  0.24159412,  0.24546787],\n",
      "        [ 0.91953689,  0.58379048,  0.4843815 ,  0.39862552,  0.73301393],\n",
      "        [ 0.63727134,  0.85996878,  0.0436643 ,  0.7668137 ,  0.01840357],\n",
      "        [ 0.13605583,  0.02648348,  0.72060406,  0.69427705,  0.33143523]],\n",
      "\n",
      "       [[ 0.24267319,  0.00968867,  0.58235574,  0.07816658,  0.98280871],\n",
      "        [ 0.13356765,  0.43699944,  0.67111415,  0.77977091,  0.55458999],\n",
      "        [ 0.62704247,  0.58929062,  0.28022635,  0.90689701,  0.78429508],\n",
      "        [ 0.42736939,  0.20563412,  0.51787698,  0.20004272,  0.37634695]]], dtype=float32))\n",
      "<CudaNdarrayType(float32, matrix)>\n",
      "[ 1.  2.  5.  2.  4.  9.]\n",
      "[ True False False False False False]\n",
      "False\n",
      "2\n"
     ]
    },
    {
     "data": {
      "text/plain": [
       "1"
      ]
     },
     "execution_count": 6,
     "metadata": {},
     "output_type": "execute_result"
    }
   ],
   "source": [
    "#TEST WITH TENSORS COMPARED WITH npARRAYS\n",
    "\n",
    "from keras import backend as K\n",
    "import numpy as np\n",
    "\n",
    "var = K.zeros(shape=(3, 4))\n",
    "var[0,0]\n",
    "\n",
    "val = np.random.random((3, 4, 5))\n",
    "var = K.variable(value=val)\n",
    "\n",
    "print(\"value:\" ,K.get_value(var))\n",
    "\n",
    "#-------------------------------------------------------------------\n",
    "\n",
    "y_true = np.array([(1,2) , (5,2), (4,9)])\n",
    "y_pred = np.array([(1,2) , (5,3), (4,9)])\n",
    "\n",
    "y_true = K.variable(value=y_true)\n",
    "y_pred = K.variable(value=y_pred)\n",
    "print(y_true)\n",
    "\n",
    "\n",
    "#Flatten to became the inputs in singles lines of data\n",
    "y_true = K.flatten(y_true)\n",
    "y_pred = K.flatten(y_pred)\n",
    "print(y_true.eval())\n",
    "\n",
    "print  (((y_true.eval())==1))\n",
    "print  (y_true==i)\n",
    "print(K.sum((y_true.eval())[:]==2).eval())\n",
    "\n",
    "\n",
    "np.sum(((y_true.eval())[:]==i ) & ((y_pred.eval())[:]==j))"
   ]
  }
 ],
 "metadata": {
  "anaconda-cloud": {},
  "kernelspec": {
   "display_name": "Python [default]",
   "language": "python",
   "name": "python2"
  },
  "language_info": {
   "codemirror_mode": {
    "name": "ipython",
    "version": 2
   },
   "file_extension": ".py",
   "mimetype": "text/x-python",
   "name": "python",
   "nbconvert_exporter": "python",
   "pygments_lexer": "ipython2",
   "version": "2.7.12"
  }
 },
 "nbformat": 4,
 "nbformat_minor": 1
}
